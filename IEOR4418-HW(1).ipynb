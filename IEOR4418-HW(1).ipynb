{
 "cells": [
  {
   "cell_type": "markdown",
   "metadata": {},
   "source": [
    "HaoDi Liu(Paul) Uni: hl3022\n",
    "\n",
    "IEOR 4418 Assignment(1):\n"
   ]
  },
  {
   "cell_type": "markdown",
   "metadata": {},
   "source": [
    "Problem 1(a): I used Python to implement Dijkstra's Algorithm"
   ]
  },
  {
   "cell_type": "code",
   "execution_count": 4,
   "metadata": {},
   "outputs": [],
   "source": [
    "class Graph:\n",
    "    \n",
    "    def __init__(self, graph):\n",
    "        self.graph = graph\n",
    "        self.num = len(graph) # This is actually the number of nodes + 1\n",
    "        self.d = [100 for i in range(self.num)] # 有 节点个数+1 个元素，第一个元素没用\n",
    "        self.p = [-1 for i in range(self.num)]  # 第二个元素对应节点1，以此类推\n",
    "    \n",
    "    def dijkstra(self, source, terminal):\n",
    "        \n",
    "        # The set of explored nodes\n",
    "        explored = set()\n",
    "        # Initialization\n",
    "        explored.add(source)\n",
    "        self.d[source] = 0\n",
    "        # The set of all nodes\n",
    "        v = {x for x in range(1,self.num)} \n",
    "        \n",
    "        while explored != v:\n",
    "            \n",
    "            for j in v.difference(explored):\n",
    "                for i in explored:\n",
    "                    if self.d[i] + self.graph[i][j] < self.d[j]:\n",
    "                        self.d[j] = self.d[i] + self.graph[i][j]\n",
    "                        self.p[j] = i\n",
    "                    \n",
    "            mini = 1000\n",
    "            z = 0\n",
    "            for k in v.difference(explored):\n",
    "                if self.d[k] < mini:\n",
    "                    mini = self.d[k]\n",
    "                    z = k\n",
    "                    \n",
    "            explored.add(z)\n",
    "            \n",
    "            '''\n",
    "            for j in v.difference(explored):\n",
    "                if self.d[z] + self.graph[z][j] < self.d[j]:\n",
    "                    self.d[j] = self.d[z] + self.graph[z][j]\n",
    "                    self.p[j] = z\n",
    "            '''\n",
    "        sp = []\n",
    "        tmp = terminal\n",
    "        feasible = True\n",
    "        while tmp != source:\n",
    "            sp.insert(0, tmp)\n",
    "            tmp = self.p[tmp]\n",
    "            if tmp == -1:\n",
    "                feasible = False\n",
    "                break\n",
    "        \n",
    "        if feasible == True:\n",
    "            sp.insert(0, source)\n",
    "            print(\"The cost of the shortest path is\", self.d[terminal])\n",
    "            return sp\n",
    "                        \n",
    "        else:\n",
    "            print(\"There is no feasible path from the given source to the given terminal.\")\n",
    "            \n",
    "    def reset(self):\n",
    "        self.d = [100 for i in range(self.num)]\n",
    "        self.p = [-1 for i in range(self.num)]"
   ]
  },
  {
   "cell_type": "markdown",
   "metadata": {},
   "source": [
    "Here we load in the graph matrix given in C.csv and store it in the variable name 'graph'. Note that Python's index starts from 0. So I added a row of 1000 at the beginning and add 1000 at the beginning of each original list. (The 1000's just mean the entries are unused and meaningless.) The purpose is to make the index consistent with our convention of starting from 1. "
   ]
  },
  {
   "cell_type": "code",
   "execution_count": 5,
   "metadata": {},
   "outputs": [],
   "source": [
    "import csv\n",
    "\n",
    "with open('C.csv') as fp:\n",
    "    reader = csv.reader(fp)\n",
    "    graph = list(reader)\n",
    "    \n",
    "for i in range(len(graph)):\n",
    "    for j in range(len(graph[i])):\n",
    "        graph[i][j] = int(graph[i][j])\n",
    "\n",
    "for lst in graph:\n",
    "    lst.insert(0,1000)\n",
    "\n",
    "graph.insert(0, [1000 for x in range(len(graph)+1)])"
   ]
  },
  {
   "cell_type": "markdown",
   "metadata": {},
   "source": [
    "The shortest path from 1 to 20 is 1 - 12 - 4 - 6 - 8 - 20, which has a total cost of 24. The code demonstration is shown below."
   ]
  },
  {
   "cell_type": "code",
   "execution_count": 6,
   "metadata": {},
   "outputs": [
    {
     "name": "stdout",
     "output_type": "stream",
     "text": [
      "The cost of the shortest path is 24\n"
     ]
    },
    {
     "data": {
      "text/plain": [
       "[1, 12, 4, 6, 8, 20]"
      ]
     },
     "execution_count": 6,
     "metadata": {},
     "output_type": "execute_result"
    }
   ],
   "source": [
    "g = Graph(graph)\n",
    "\n",
    "g.dijkstra(1,20)"
   ]
  },
  {
   "cell_type": "markdown",
   "metadata": {},
   "source": [
    "The shortest path from 11 to 13 is 11 - 4 - 16 - 13, which costs 12. The code demonstration is shown below."
   ]
  },
  {
   "cell_type": "code",
   "execution_count": 7,
   "metadata": {},
   "outputs": [
    {
     "name": "stdout",
     "output_type": "stream",
     "text": [
      "The cost of the shortest path is 12\n"
     ]
    },
    {
     "data": {
      "text/plain": [
       "[11, 4, 16, 13]"
      ]
     },
     "execution_count": 7,
     "metadata": {},
     "output_type": "execute_result"
    }
   ],
   "source": [
    "g.reset()\n",
    "g.dijkstra(11,13)"
   ]
  },
  {
   "cell_type": "markdown",
   "metadata": {},
   "source": [
    "The shortest path from 17 to 3 is 17 - 6 - 8 - 3, which has a total cost of 24. The code demonstration is shown below."
   ]
  },
  {
   "cell_type": "code",
   "execution_count": 8,
   "metadata": {},
   "outputs": [
    {
     "name": "stdout",
     "output_type": "stream",
     "text": [
      "The cost of the shortest path is 24\n"
     ]
    },
    {
     "data": {
      "text/plain": [
       "[17, 6, 8, 3]"
      ]
     },
     "execution_count": 8,
     "metadata": {},
     "output_type": "execute_result"
    }
   ],
   "source": [
    "g.reset()\n",
    "g.dijkstra(17,3)"
   ]
  },
  {
   "cell_type": "markdown",
   "metadata": {},
   "source": [
    "1(b): I am going to implement Bellman-Ford Algorithm in Python "
   ]
  },
  {
   "cell_type": "code",
   "execution_count": 15,
   "metadata": {},
   "outputs": [],
   "source": [
    "class Graph1:\n",
    "    \n",
    "    def __init__(self, graph):\n",
    "        \n",
    "        self.graph = graph\n",
    "        self.num = len(graph)\n",
    "        self.p = [[-1 for i in range(self.num)] for j in range(self.num - 1)]\n",
    "        \n",
    "    def bellmanFord(self, num_step, source, terminal):\n",
    "        \n",
    "        k = 0\n",
    "        d = []\n",
    "        for x in range(self.num - 1):\n",
    "            d.append([1000 for i in range(self.num)]) #1000 stands for infinity here\n",
    "        \n",
    "        v = {y for y in range(1,self.num)}\n",
    "        d[0][source] = 0\n",
    "        #print(self.p)\n",
    "        while k < self.num - 2:\n",
    "            k = k + 1\n",
    "            for j in v:\n",
    "                d[k][j] = d[k-1][j]\n",
    "                self.p[k][j] = self.p[k-1][j]\n",
    "                for i in v.difference({j}):\n",
    "                    if d[k-1][i] + self.graph[i][j] < d[k][j]:\n",
    "                        d[k][j] = d[k-1][i] + self.graph[i][j]\n",
    "                        self.p[k][j] = i\n",
    "        '''\n",
    "        sp = []\n",
    "        tmp = terminal\n",
    "        feasible = True\n",
    "        \n",
    "        while tmp != source:\n",
    "            sp.insert(0,tmp)\n",
    "            tmp = self.p[tmp]\n",
    "            if tmp == -1:\n",
    "                feasible = False\n",
    "                break\n",
    "        \n",
    "        \n",
    "            sp.insert(0, source)\n",
    "            print(\"The cost of the shortest path is\", d[num_step][terminal])\n",
    "            return sp\n",
    "                        \n",
    "        else:\n",
    "            print(\"There is no feasible path from the given source to the given terminal.\")\n",
    "        \n",
    "        '''\n",
    "        #print(\"Our p is\", self.p)\n",
    "        #print(\"Our d is\", d)\n",
    "        sp = []\n",
    "        tmp = terminal\n",
    "        feasible = True\n",
    "        haha = num_step\n",
    "        \n",
    "        while tmp != source:\n",
    "            sp.insert(0,tmp)\n",
    "            tmp = self.p[haha][tmp]\n",
    "            haha = haha - 1\n",
    "            if tmp == -1:\n",
    "                feasible = False\n",
    "                break\n",
    "        \n",
    "        if feasible == True:\n",
    "            sp.insert(0, source)\n",
    "            print(f\"The cost of the shortest path with at most {num_step} steps is\", d[num_step][terminal])\n",
    "            return sp\n",
    "       \n",
    "        else:\n",
    "            print(\"There is no feasible path from the given source to the given terminal.\")\n",
    "            \n",
    "            \n",
    "    def reset(self):\n",
    "        \n",
    "        self.p = [[-1 for i in range(self.num)] for j in range(self.num - 1)]"
   ]
  },
  {
   "cell_type": "code",
   "execution_count": 10,
   "metadata": {},
   "outputs": [
    {
     "ename": "TypeError",
     "evalue": "'set' object does not support indexing",
     "output_type": "error",
     "traceback": [
      "\u001b[0;31m---------------------------------------------------------------------------\u001b[0m",
      "\u001b[0;31mTypeError\u001b[0m                                 Traceback (most recent call last)",
      "\u001b[0;32m<ipython-input-10-63b00f5eff00>\u001b[0m in \u001b[0;36m<module>\u001b[0;34m()\u001b[0m\n\u001b[1;32m      2\u001b[0m \u001b[0ma\u001b[0m\u001b[0;34m[\u001b[0m\u001b[0;36m1\u001b[0m\u001b[0;34m]\u001b[0m\u001b[0;34m[\u001b[0m\u001b[0;36m5\u001b[0m\u001b[0;34m]\u001b[0m\u001b[0;34m\u001b[0m\u001b[0m\n\u001b[1;32m      3\u001b[0m \u001b[0mv\u001b[0m \u001b[0;34m=\u001b[0m \u001b[0;34m{\u001b[0m\u001b[0my\u001b[0m \u001b[0;32mfor\u001b[0m \u001b[0my\u001b[0m \u001b[0;32min\u001b[0m \u001b[0mrange\u001b[0m\u001b[0;34m(\u001b[0m\u001b[0;36m1\u001b[0m\u001b[0;34m,\u001b[0m\u001b[0;36m10\u001b[0m\u001b[0;34m)\u001b[0m\u001b[0;34m}\u001b[0m\u001b[0;34m\u001b[0m\u001b[0m\n\u001b[0;32m----> 4\u001b[0;31m \u001b[0mv\u001b[0m\u001b[0;34m[\u001b[0m\u001b[0;36m1\u001b[0m\u001b[0;34m]\u001b[0m\u001b[0;34m\u001b[0m\u001b[0m\n\u001b[0m",
      "\u001b[0;31mTypeError\u001b[0m: 'set' object does not support indexing"
     ]
    }
   ],
   "source": [
    "a = [[-1 for i in range(10)] for j in range(10)]\n",
    "a[1][5]\n",
    "v = {y for y in range(1,10)}\n",
    "v[1]"
   ]
  },
  {
   "cell_type": "markdown",
   "metadata": {},
   "source": [
    "The shortest path from 1 to 20 in at most 3 steps doesn't exist."
   ]
  },
  {
   "cell_type": "code",
   "execution_count": 16,
   "metadata": {},
   "outputs": [
    {
     "name": "stdout",
     "output_type": "stream",
     "text": [
      "The cost of the shortest path with at most 3 steps is 100\n"
     ]
    },
    {
     "data": {
      "text/plain": [
       "[1, 20]"
      ]
     },
     "execution_count": 16,
     "metadata": {},
     "output_type": "execute_result"
    }
   ],
   "source": [
    "g1 = Graph1(graph)\n",
    "\n",
    "g1.bellmanFord(3,1,20)"
   ]
  },
  {
   "cell_type": "markdown",
   "metadata": {},
   "source": [
    "The shortest path from 11 to 13 in at most 3 steps is 11 - 4 - 16 - 13, which costs us 12."
   ]
  },
  {
   "cell_type": "code",
   "execution_count": 17,
   "metadata": {},
   "outputs": [
    {
     "name": "stdout",
     "output_type": "stream",
     "text": [
      "The cost of the shortest path with at most 3 steps is 12\n"
     ]
    },
    {
     "data": {
      "text/plain": [
       "[11, 4, 16, 13]"
      ]
     },
     "execution_count": 17,
     "metadata": {},
     "output_type": "execute_result"
    }
   ],
   "source": [
    "g1.reset()\n",
    "g1.bellmanFord(3,11,13)"
   ]
  },
  {
   "cell_type": "markdown",
   "metadata": {},
   "source": [
    "The shortest path from 17 to 3 in at most 3 steps is 17 - 6 - 8 - 3, which costs us 24."
   ]
  },
  {
   "cell_type": "code",
   "execution_count": 18,
   "metadata": {},
   "outputs": [
    {
     "name": "stdout",
     "output_type": "stream",
     "text": [
      "The cost of the shortest path with at most 3 steps is 24\n"
     ]
    },
    {
     "data": {
      "text/plain": [
       "[17, 6, 8, 3]"
      ]
     },
     "execution_count": 18,
     "metadata": {},
     "output_type": "execute_result"
    }
   ],
   "source": [
    "g1.reset()\n",
    "g1.bellmanFord(3,17,3)"
   ]
  },
  {
   "cell_type": "markdown",
   "metadata": {},
   "source": [
    "The shortest path from 1 to 20 in at most 5 steps is 1 - 12 - 4 - 6 - 8 - 20, which costs us 24."
   ]
  },
  {
   "cell_type": "code",
   "execution_count": 19,
   "metadata": {},
   "outputs": [
    {
     "name": "stdout",
     "output_type": "stream",
     "text": [
      "The cost of the shortest path with at most 5 steps is 24\n"
     ]
    },
    {
     "data": {
      "text/plain": [
       "[1, 12, 4, 6, 8, 20]"
      ]
     },
     "execution_count": 19,
     "metadata": {},
     "output_type": "execute_result"
    }
   ],
   "source": [
    "g1.reset()\n",
    "g1.bellmanFord(5,1,20)"
   ]
  },
  {
   "cell_type": "markdown",
   "metadata": {},
   "source": [
    "The shortest path from 11 to 13 in at most 5 steps is 11 - 4 - 16 - 13, which costs us 12."
   ]
  },
  {
   "cell_type": "code",
   "execution_count": 20,
   "metadata": {},
   "outputs": [
    {
     "name": "stdout",
     "output_type": "stream",
     "text": [
      "The cost of the shortest path with at most 5 steps is 12\n"
     ]
    },
    {
     "data": {
      "text/plain": [
       "[11, 4, 16, 13]"
      ]
     },
     "execution_count": 20,
     "metadata": {},
     "output_type": "execute_result"
    }
   ],
   "source": [
    "g1.reset()\n",
    "g1.bellmanFord(5,11,13)"
   ]
  },
  {
   "cell_type": "markdown",
   "metadata": {},
   "source": [
    "The shortest path from 17 to 3 in at most 5 steps is 17 - 6 - 8 - 3, which costs us 24."
   ]
  },
  {
   "cell_type": "code",
   "execution_count": 21,
   "metadata": {},
   "outputs": [
    {
     "name": "stdout",
     "output_type": "stream",
     "text": [
      "The cost of the shortest path with at most 5 steps is 24\n"
     ]
    },
    {
     "data": {
      "text/plain": [
       "[17, 6, 8, 3]"
      ]
     },
     "execution_count": 21,
     "metadata": {},
     "output_type": "execute_result"
    }
   ],
   "source": [
    "g1.reset()\n",
    "g1.bellmanFord(5,17,3)"
   ]
  }
 ],
 "metadata": {
  "kernelspec": {
   "display_name": "Python 3",
   "language": "python",
   "name": "python3"
  },
  "language_info": {
   "codemirror_mode": {
    "name": "ipython",
    "version": 3
   },
   "file_extension": ".py",
   "mimetype": "text/x-python",
   "name": "python",
   "nbconvert_exporter": "python",
   "pygments_lexer": "ipython3",
   "version": "3.6.5"
  }
 },
 "nbformat": 4,
 "nbformat_minor": 2
}
